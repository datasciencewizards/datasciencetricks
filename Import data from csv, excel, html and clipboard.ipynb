{
 "cells": [
  {
   "cell_type": "code",
   "execution_count": 1,
   "metadata": {},
   "outputs": [],
   "source": [
    "import pandas as pd"
   ]
  },
  {
   "cell_type": "markdown",
   "metadata": {},
   "source": [
    "### Loading csv file"
   ]
  },
  {
   "cell_type": "code",
   "execution_count": 2,
   "metadata": {
    "scrolled": true
   },
   "outputs": [
    {
     "data": {
      "text/html": [
       "<div>\n",
       "<style scoped>\n",
       "    .dataframe tbody tr th:only-of-type {\n",
       "        vertical-align: middle;\n",
       "    }\n",
       "\n",
       "    .dataframe tbody tr th {\n",
       "        vertical-align: top;\n",
       "    }\n",
       "\n",
       "    .dataframe thead th {\n",
       "        text-align: right;\n",
       "    }\n",
       "</style>\n",
       "<table border=\"1\" class=\"dataframe\">\n",
       "  <thead>\n",
       "    <tr style=\"text-align: right;\">\n",
       "      <th></th>\n",
       "      <th>name</th>\n",
       "      <th>age</th>\n",
       "      <th>height</th>\n",
       "    </tr>\n",
       "  </thead>\n",
       "  <tbody>\n",
       "    <tr>\n",
       "      <th>0</th>\n",
       "      <td>Sheldon</td>\n",
       "      <td>28.0</td>\n",
       "      <td>186.0</td>\n",
       "    </tr>\n",
       "    <tr>\n",
       "      <th>1</th>\n",
       "      <td>Leonard</td>\n",
       "      <td>28.0</td>\n",
       "      <td>165.0</td>\n",
       "    </tr>\n",
       "    <tr>\n",
       "      <th>2</th>\n",
       "      <td>Howard</td>\n",
       "      <td>NaN</td>\n",
       "      <td>163.0</td>\n",
       "    </tr>\n",
       "    <tr>\n",
       "      <th>3</th>\n",
       "      <td>Raj</td>\n",
       "      <td>NaN</td>\n",
       "      <td>171.0</td>\n",
       "    </tr>\n",
       "    <tr>\n",
       "      <th>4</th>\n",
       "      <td>Penny</td>\n",
       "      <td>22.0</td>\n",
       "      <td>NaN</td>\n",
       "    </tr>\n",
       "  </tbody>\n",
       "</table>\n",
       "</div>"
      ],
      "text/plain": [
       "      name   age  height\n",
       "0  Sheldon  28.0   186.0\n",
       "1  Leonard  28.0   165.0\n",
       "2   Howard   NaN   163.0\n",
       "3      Raj   NaN   171.0\n",
       "4    Penny  22.0     NaN"
      ]
     },
     "execution_count": 2,
     "metadata": {},
     "output_type": "execute_result"
    }
   ],
   "source": [
    "df=pd.read_csv(\"data/sample_data.csv\")\n",
    "df.head()"
   ]
  },
  {
   "cell_type": "markdown",
   "metadata": {},
   "source": [
    "### Loading excel sheet"
   ]
  },
  {
   "cell_type": "code",
   "execution_count": 3,
   "metadata": {},
   "outputs": [],
   "source": [
    "#!pip install xlrd"
   ]
  },
  {
   "cell_type": "code",
   "execution_count": 4,
   "metadata": {},
   "outputs": [
    {
     "data": {
      "text/html": [
       "<div>\n",
       "<style scoped>\n",
       "    .dataframe tbody tr th:only-of-type {\n",
       "        vertical-align: middle;\n",
       "    }\n",
       "\n",
       "    .dataframe tbody tr th {\n",
       "        vertical-align: top;\n",
       "    }\n",
       "\n",
       "    .dataframe thead th {\n",
       "        text-align: right;\n",
       "    }\n",
       "</style>\n",
       "<table border=\"1\" class=\"dataframe\">\n",
       "  <thead>\n",
       "    <tr style=\"text-align: right;\">\n",
       "      <th></th>\n",
       "      <th>name</th>\n",
       "      <th>age</th>\n",
       "      <th>height</th>\n",
       "    </tr>\n",
       "  </thead>\n",
       "  <tbody>\n",
       "    <tr>\n",
       "      <th>0</th>\n",
       "      <td>Sheldon</td>\n",
       "      <td>28.0</td>\n",
       "      <td>186.0</td>\n",
       "    </tr>\n",
       "    <tr>\n",
       "      <th>1</th>\n",
       "      <td>Leonard</td>\n",
       "      <td>28.0</td>\n",
       "      <td>165.0</td>\n",
       "    </tr>\n",
       "    <tr>\n",
       "      <th>2</th>\n",
       "      <td>Howard</td>\n",
       "      <td>NaN</td>\n",
       "      <td>163.0</td>\n",
       "    </tr>\n",
       "    <tr>\n",
       "      <th>3</th>\n",
       "      <td>Raj</td>\n",
       "      <td>NaN</td>\n",
       "      <td>171.0</td>\n",
       "    </tr>\n",
       "    <tr>\n",
       "      <th>4</th>\n",
       "      <td>Penny</td>\n",
       "      <td>22.0</td>\n",
       "      <td>NaN</td>\n",
       "    </tr>\n",
       "  </tbody>\n",
       "</table>\n",
       "</div>"
      ],
      "text/plain": [
       "      name   age  height\n",
       "0  Sheldon  28.0   186.0\n",
       "1  Leonard  28.0   165.0\n",
       "2   Howard   NaN   163.0\n",
       "3      Raj   NaN   171.0\n",
       "4    Penny  22.0     NaN"
      ]
     },
     "execution_count": 4,
     "metadata": {},
     "output_type": "execute_result"
    }
   ],
   "source": [
    "df = pd.read_excel(\"data/sample_data.xlsx\")\n",
    "df.head()"
   ]
  },
  {
   "cell_type": "markdown",
   "metadata": {},
   "source": [
    "### Parsing html data"
   ]
  },
  {
   "cell_type": "code",
   "execution_count": 5,
   "metadata": {},
   "outputs": [],
   "source": [
    "url = \"https://en.wikipedia.org/wiki/States_and_union_territories_of_India\"\n",
    "tables_list = pd.read_html(url)"
   ]
  },
  {
   "cell_type": "code",
   "execution_count": 6,
   "metadata": {},
   "outputs": [
    {
     "data": {
      "text/plain": [
       "9"
      ]
     },
     "execution_count": 6,
     "metadata": {},
     "output_type": "execute_result"
    }
   ],
   "source": [
    "#checking no of tables found\n",
    "len(tables_list)"
   ]
  },
  {
   "cell_type": "code",
   "execution_count": 7,
   "metadata": {},
   "outputs": [
    {
     "data": {
      "text/html": [
       "<div>\n",
       "<style scoped>\n",
       "    .dataframe tbody tr th:only-of-type {\n",
       "        vertical-align: middle;\n",
       "    }\n",
       "\n",
       "    .dataframe tbody tr th {\n",
       "        vertical-align: top;\n",
       "    }\n",
       "\n",
       "    .dataframe thead th {\n",
       "        text-align: right;\n",
       "    }\n",
       "</style>\n",
       "<table border=\"1\" class=\"dataframe\">\n",
       "  <thead>\n",
       "    <tr style=\"text-align: right;\">\n",
       "      <th></th>\n",
       "      <th>State</th>\n",
       "      <th>ISO 3166-2:IN</th>\n",
       "      <th>Vehiclecode</th>\n",
       "      <th>Zone</th>\n",
       "      <th>Capital</th>\n",
       "      <th>Largest city</th>\n",
       "      <th>Statehood</th>\n",
       "      <th>Population[40]</th>\n",
       "      <th>Area(km2)</th>\n",
       "      <th>Officiallanguages[41]</th>\n",
       "      <th>Additional officiallanguages[41]</th>\n",
       "    </tr>\n",
       "  </thead>\n",
       "  <tbody>\n",
       "    <tr>\n",
       "      <th>0</th>\n",
       "      <td>Andhra Pradesh</td>\n",
       "      <td>IN-AP</td>\n",
       "      <td>AP</td>\n",
       "      <td>Southern</td>\n",
       "      <td>Hyderabad (de jure)Amaravati (de facto) Note 1...</td>\n",
       "      <td>Visakhapatnam</td>\n",
       "      <td>1 November 1956</td>\n",
       "      <td>49506799</td>\n",
       "      <td>160205</td>\n",
       "      <td>Telugu</td>\n",
       "      <td>—</td>\n",
       "    </tr>\n",
       "    <tr>\n",
       "      <th>1</th>\n",
       "      <td>Arunachal Pradesh</td>\n",
       "      <td>IN-AR</td>\n",
       "      <td>AR</td>\n",
       "      <td>North-Eastern</td>\n",
       "      <td>Itanagar</td>\n",
       "      <td>Itanagar</td>\n",
       "      <td>20 February 1987</td>\n",
       "      <td>1383727</td>\n",
       "      <td>83743</td>\n",
       "      <td>English</td>\n",
       "      <td>—</td>\n",
       "    </tr>\n",
       "    <tr>\n",
       "      <th>2</th>\n",
       "      <td>Assam</td>\n",
       "      <td>IN-AS</td>\n",
       "      <td>AS</td>\n",
       "      <td>North-Eastern</td>\n",
       "      <td>Dispur</td>\n",
       "      <td>Guwahati</td>\n",
       "      <td>26 January 1950</td>\n",
       "      <td>31205576</td>\n",
       "      <td>78550</td>\n",
       "      <td>Assamese</td>\n",
       "      <td>Bengali, Bodo</td>\n",
       "    </tr>\n",
       "    <tr>\n",
       "      <th>3</th>\n",
       "      <td>Bihar</td>\n",
       "      <td>IN-BR</td>\n",
       "      <td>BR</td>\n",
       "      <td>Eastern</td>\n",
       "      <td>Patna</td>\n",
       "      <td>Patna</td>\n",
       "      <td>26 January 1950</td>\n",
       "      <td>104099452</td>\n",
       "      <td>94163</td>\n",
       "      <td>Hindi</td>\n",
       "      <td>Urdu</td>\n",
       "    </tr>\n",
       "    <tr>\n",
       "      <th>4</th>\n",
       "      <td>Chhattisgarh</td>\n",
       "      <td>IN-CT</td>\n",
       "      <td>CG</td>\n",
       "      <td>Central</td>\n",
       "      <td>Naya Raipur</td>\n",
       "      <td>Raipur</td>\n",
       "      <td>1 November 2000</td>\n",
       "      <td>25545198</td>\n",
       "      <td>135194</td>\n",
       "      <td>Hindi</td>\n",
       "      <td>—</td>\n",
       "    </tr>\n",
       "  </tbody>\n",
       "</table>\n",
       "</div>"
      ],
      "text/plain": [
       "               State ISO 3166-2:IN Vehiclecode           Zone  \\\n",
       "0     Andhra Pradesh         IN-AP          AP       Southern   \n",
       "1  Arunachal Pradesh         IN-AR          AR  North-Eastern   \n",
       "2              Assam         IN-AS          AS  North-Eastern   \n",
       "3              Bihar         IN-BR          BR        Eastern   \n",
       "4       Chhattisgarh         IN-CT          CG        Central   \n",
       "\n",
       "                                             Capital   Largest city  \\\n",
       "0  Hyderabad (de jure)Amaravati (de facto) Note 1...  Visakhapatnam   \n",
       "1                                           Itanagar       Itanagar   \n",
       "2                                             Dispur       Guwahati   \n",
       "3                                              Patna          Patna   \n",
       "4                                        Naya Raipur         Raipur   \n",
       "\n",
       "          Statehood Population[40] Area(km2) Officiallanguages[41]  \\\n",
       "0   1 November 1956       49506799    160205                Telugu   \n",
       "1  20 February 1987        1383727     83743               English   \n",
       "2   26 January 1950       31205576     78550              Assamese   \n",
       "3   26 January 1950      104099452     94163                 Hindi   \n",
       "4   1 November 2000       25545198    135194                 Hindi   \n",
       "\n",
       "  Additional officiallanguages[41]  \n",
       "0                                —  \n",
       "1                                —  \n",
       "2                    Bengali, Bodo  \n",
       "3                             Urdu  \n",
       "4                                —  "
      ]
     },
     "execution_count": 7,
     "metadata": {},
     "output_type": "execute_result"
    }
   ],
   "source": [
    "#printing required table by indexing\n",
    "state_table = tables_list[3]\n",
    "state_table.head()"
   ]
  },
  {
   "cell_type": "markdown",
   "metadata": {},
   "source": [
    "### Read from clipborad"
   ]
  },
  {
   "cell_type": "markdown",
   "metadata": {},
   "source": [
    "#### copy following text  \n",
    "```\n",
    "     bar   foo  \n",
    "0    4     1  \n",
    "1    5     2  \n",
    "2    6     3  \n",
    "```"
   ]
  },
  {
   "cell_type": "code",
   "execution_count": 8,
   "metadata": {},
   "outputs": [
    {
     "data": {
      "text/html": [
       "<div>\n",
       "<style scoped>\n",
       "    .dataframe tbody tr th:only-of-type {\n",
       "        vertical-align: middle;\n",
       "    }\n",
       "\n",
       "    .dataframe tbody tr th {\n",
       "        vertical-align: top;\n",
       "    }\n",
       "\n",
       "    .dataframe thead th {\n",
       "        text-align: right;\n",
       "    }\n",
       "</style>\n",
       "<table border=\"1\" class=\"dataframe\">\n",
       "  <thead>\n",
       "    <tr style=\"text-align: right;\">\n",
       "      <th></th>\n",
       "      <th>bar</th>\n",
       "      <th>foo</th>\n",
       "    </tr>\n",
       "  </thead>\n",
       "  <tbody>\n",
       "    <tr>\n",
       "      <th>0</th>\n",
       "      <td>4</td>\n",
       "      <td>1</td>\n",
       "    </tr>\n",
       "    <tr>\n",
       "      <th>1</th>\n",
       "      <td>5</td>\n",
       "      <td>2</td>\n",
       "    </tr>\n",
       "    <tr>\n",
       "      <th>2</th>\n",
       "      <td>6</td>\n",
       "      <td>3</td>\n",
       "    </tr>\n",
       "  </tbody>\n",
       "</table>\n",
       "</div>"
      ],
      "text/plain": [
       "   bar  foo\n",
       "0    4    1\n",
       "1    5    2\n",
       "2    6    3"
      ]
     },
     "execution_count": 8,
     "metadata": {},
     "output_type": "execute_result"
    }
   ],
   "source": [
    "df = pd.read_clipboard()\n",
    "df"
   ]
  }
 ],
 "metadata": {
  "kernelspec": {
   "display_name": "Python 3",
   "language": "python",
   "name": "python3"
  },
  "language_info": {
   "codemirror_mode": {
    "name": "ipython",
    "version": 3
   },
   "file_extension": ".py",
   "mimetype": "text/x-python",
   "name": "python",
   "nbconvert_exporter": "python",
   "pygments_lexer": "ipython3",
   "version": "3.6.5"
  }
 },
 "nbformat": 4,
 "nbformat_minor": 2
}
